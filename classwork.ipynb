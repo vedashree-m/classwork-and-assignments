{
  "nbformat": 4,
  "nbformat_minor": 0,
  "metadata": {
    "colab": {
      "provenance": []
    },
    "kernelspec": {
      "name": "python3",
      "display_name": "Python 3"
    },
    "language_info": {
      "name": "python"
    }
  },
  "cells": [
    {
      "cell_type": "code",
      "execution_count": null,
      "metadata": {
        "colab": {
          "base_uri": "https://localhost:8080/"
        },
        "id": "RZR6LJCNOi92",
        "outputId": "83a2a5ce-a2bb-47ec-9cb3-ea61db0210aa"
      },
      "outputs": [
        {
          "output_type": "stream",
          "name": "stdout",
          "text": [
            "Enter a string: hello i am a student\n",
            "Reversed string: tneduts a ma i olleh\n"
          ]
        }
      ],
      "source": [
        "# Input from the user\n",
        "string = input(\"Enter a string: \")\n",
        "\n",
        "# Reverse the string using slicing\n",
        "reversed_string = string[::-1]\n",
        "\n",
        "# Display the reversed string\n",
        "print(\"Reversed string:\", reversed_string)\n"
      ]
    },
    {
      "cell_type": "code",
      "source": [
        "# Simple Chatbot Mood Tracker\n",
        "\n",
        "from datetime import datetime\n",
        "\n",
        "# Dictionary to store moods\n",
        "mood_tracker = {}\n",
        "\n",
        "def add_mood():\n",
        "    current_date = datetime.now().strftime(\"%Y-%m-%d %H:%M:%S\")\n",
        "    mood = input(\"Chatbot: How are you feeling today? \")\n",
        "    mood_tracker[current_date] = mood\n",
        "    print(\"Chatbot: Got it! Your mood has been recorded.\")\n",
        "\n",
        "def view_mood_history():\n",
        "    if mood_tracker:\n",
        "        print(\"Chatbot: Here's your mood history:\")\n",
        "        for date, mood in mood_tracker.items():\n",
        "            print(f\"{date}: {mood}\")\n",
        "    else:\n",
        "        print(\"Chatbot: No mood history available yet.\")\n",
        "\n",
        "def mood_chatbot():\n",
        "    print(\"Chatbot: Hi! I'm your Mood Tracker Bot 😊\")\n",
        "    while True:\n",
        "        print(\"\\nChatbot: What would you like to do?\")\n",
        "        print(\"1. Add a mood\")\n",
        "        print(\"2. View mood history\")\n",
        "        print(\"3. Exit\")\n",
        "\n",
        "        choice = input(\"You: \")\n",
        "\n",
        "        if choice == '1':\n",
        "            add_mood()\n",
        "        elif choice == '2':\n",
        "            view_mood_history()\n",
        "        elif choice == '3':\n",
        "            print(\"Chatbot: Goodbye! Have a wonderful day! 🌟\")\n",
        "            break\n",
        "        else:\n",
        "            print(\"Chatbot: Sorry, I didn't understand that. Please choose 1, 2, or 3.\")\n",
        "\n",
        "# Run the chatbot\n",
        "mood_chatbot()\n",
        "\n"
      ],
      "metadata": {
        "colab": {
          "base_uri": "https://localhost:8080/"
        },
        "id": "goPxaBC7P25r",
        "outputId": "c6dd504c-5be2-42ba-fd92-734281f38ed6"
      },
      "execution_count": null,
      "outputs": [
        {
          "output_type": "stream",
          "name": "stdout",
          "text": [
            "Chatbot: Hi! I'm your Mood Tracker Bot 😊\n",
            "\n",
            "Chatbot: What would you like to do?\n",
            "1. Add a mood\n",
            "2. View mood history\n",
            "3. Exit\n",
            "You: 1\n",
            "Chatbot: How are you feeling today? good\n",
            "Chatbot: Got it! Your mood has been recorded.\n",
            "\n",
            "Chatbot: What would you like to do?\n",
            "1. Add a mood\n",
            "2. View mood history\n",
            "3. Exit\n",
            "You: 3\n",
            "Chatbot: Goodbye! Have a wonderful day! 🌟\n"
          ]
        }
      ]
    }
  ]
}