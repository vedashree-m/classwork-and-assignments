{
  "nbformat": 4,
  "nbformat_minor": 0,
  "metadata": {
    "colab": {
      "provenance": [],
      "authorship_tag": "ABX9TyN1k/gOidii3tquOM9kDR62",
      "include_colab_link": true
    },
    "kernelspec": {
      "name": "python3",
      "display_name": "Python 3"
    },
    "language_info": {
      "name": "python"
    }
  },
  "cells": [
    {
      "cell_type": "markdown",
      "metadata": {
        "id": "view-in-github",
        "colab_type": "text"
      },
      "source": [
        "<a href=\"https://colab.research.google.com/github/vedashree-m/classwork-and-assignments/blob/main/classwork.ipynb\" target=\"_parent\"><img src=\"https://colab.research.google.com/assets/colab-badge.svg\" alt=\"Open In Colab\"/></a>"
      ]
    },
    {
      "cell_type": "code",
      "execution_count": null,
      "metadata": {
        "colab": {
          "base_uri": "https://localhost:8080/"
        },
        "id": "RZR6LJCNOi92",
        "outputId": "83a2a5ce-a2bb-47ec-9cb3-ea61db0210aa"
      },
      "outputs": [
        {
          "output_type": "stream",
          "name": "stdout",
          "text": [
            "Enter a string: hello i am a student\n",
            "Reversed string: tneduts a ma i olleh\n"
          ]
        }
      ],
      "source": [
        "# Input from the user\n",
        "string = input(\"Enter a string: \")\n",
        "\n",
        "# Reverse the string using slicing\n",
        "reversed_string = string[::-1]\n",
        "\n",
        "# Display the reversed string\n",
        "print(\"Reversed string:\", reversed_string)\n"
      ]
    },
    {
      "cell_type": "code",
      "source": [
        "# Simple Chatbot Mood Tracker\n",
        "\n",
        "from datetime import datetime\n",
        "\n",
        "# Dictionary to store moods\n",
        "mood_tracker = {}\n",
        "\n",
        "def add_mood():\n",
        "    current_date = datetime.now().strftime(\"%Y-%m-%d %H:%M:%S\")\n",
        "    mood = input(\"Chatbot: How are you feeling today? \")\n",
        "    mood_tracker[current_date] = mood\n",
        "    print(\"Chatbot: Got it! Your mood has been recorded.\")\n",
        "\n",
        "def view_mood_history():\n",
        "    if mood_tracker:\n",
        "        print(\"Chatbot: Here's your mood history:\")\n",
        "        for date, mood in mood_tracker.items():\n",
        "            print(f\"{date}: {mood}\")\n",
        "    else:\n",
        "        print(\"Chatbot: No mood history available yet.\")\n",
        "\n",
        "def mood_chatbot():\n",
        "    print(\"Chatbot: Hi! I'm your Mood Tracker Bot 😊\")\n",
        "    while True:\n",
        "        print(\"\\nChatbot: What would you like to do?\")\n",
        "        print(\"1. Add a mood\")\n",
        "        print(\"2. View mood history\")\n",
        "        print(\"3. Exit\")\n",
        "\n",
        "        choice = input(\"You: \")\n",
        "\n",
        "        if choice == '1':\n",
        "            add_mood()\n",
        "        elif choice == '2':\n",
        "            view_mood_history()\n",
        "        elif choice == '3':\n",
        "            print(\"Chatbot: Goodbye! Have a wonderful day! 🌟\")\n",
        "            break\n",
        "        else:\n",
        "            print(\"Chatbot: Sorry, I didn't understand that. Please choose 1, 2, or 3.\")\n",
        "\n",
        "# Run the chatbot\n",
        "mood_chatbot()\n",
        "\n"
      ],
      "metadata": {
        "colab": {
          "base_uri": "https://localhost:8080/"
        },
        "id": "goPxaBC7P25r",
        "outputId": "c6dd504c-5be2-42ba-fd92-734281f38ed6"
      },
      "execution_count": null,
      "outputs": [
        {
          "output_type": "stream",
          "name": "stdout",
          "text": [
            "Chatbot: Hi! I'm your Mood Tracker Bot 😊\n",
            "\n",
            "Chatbot: What would you like to do?\n",
            "1. Add a mood\n",
            "2. View mood history\n",
            "3. Exit\n",
            "You: 1\n",
            "Chatbot: How are you feeling today? good\n",
            "Chatbot: Got it! Your mood has been recorded.\n",
            "\n",
            "Chatbot: What would you like to do?\n",
            "1. Add a mood\n",
            "2. View mood history\n",
            "3. Exit\n",
            "You: 3\n",
            "Chatbot: Goodbye! Have a wonderful day! 🌟\n"
          ]
        }
      ]
    },
    {
      "cell_type": "code",
      "source": [
        "#pseudocode for dijkstras algorithm\n",
        "import heapq\n",
        "\n",
        "def dijkstra(graph, start_vertex):\n",
        "    distances = {vertex: float('infinity') for vertex in graph}\n",
        "    distances[start_vertex] = 0\n",
        "    priority_queue = [(0, start_vertex)]\n",
        "\n",
        "    while priority_queue:\n",
        "        current_distance, current_vertex = heapq.heappop(priority_queue)\n",
        "\n",
        "        if current_distance > distances[current_vertex]:\n",
        "            continue\n",
        "\n",
        "        for neighbor, weight in graph[current_vertex].items():\n",
        "            distance = current_distance + weight\n",
        "\n",
        "            if distance < distances[neighbor]:\n",
        "                distances[neighbor] = distance\n",
        "                heapq.heappush(priority_queue, (distance, neighbor))\n",
        "\n",
        "    return distances\n",
        "graph = {\n",
        "    'A': {'B': 1, 'C': 4},\n",
        "    'B': {'A': 1, 'C': 2, 'D': 5},\n",
        "    'C': {'A': 4, 'B': 2, 'D': 1},\n",
        "    'D': {'B': 5, 'C': 1}\n",
        "}\n",
        "\n",
        "distances = dijkstra(graph, 'A')\n",
        "print(distances)"
      ],
      "metadata": {
        "colab": {
          "base_uri": "https://localhost:8080/"
        },
        "id": "eT9n-edablTt",
        "outputId": "755941c2-00e6-48ef-b39b-8fc7fbee6796"
      },
      "execution_count": 1,
      "outputs": [
        {
          "output_type": "stream",
          "name": "stdout",
          "text": [
            "{'A': 0, 'B': 1, 'C': 3, 'D': 4}\n"
          ]
        }
      ]
    },
    {
      "cell_type": "code",
      "source": [
        "# pseudocode for BFS(Breadth First Search) algorthm\n",
        "from collections import deque\n",
        "\n",
        "def bfs(graph, start_vertex):\n",
        "    visited = set()\n",
        "    queue = deque([start_vertex])\n",
        "    visited.add(start_vertex)\n",
        "\n",
        "    while queue:\n",
        "        current_vertex = queue.popleft()\n",
        "        print(current_vertex)\n",
        "\n",
        "        for neighbor in graph[current_vertex]:\n",
        "            if neighbor not in visited:\n",
        "                visited.add(neighbor)\n",
        "                queue.append(neighbor)\n",
        "graph = {\n",
        "    'A': ['B', 'C'],\n",
        "    'B': ['A', 'D', 'E'],\n",
        "    'C': ['A', 'F'],\n",
        "    'D': ['B'],\n",
        "    'E': ['B', 'F'],\n",
        "    'F': ['C', 'E']\n",
        "}\n",
        "\n",
        "bfs(graph,'A')"
      ],
      "metadata": {
        "colab": {
          "base_uri": "https://localhost:8080/"
        },
        "id": "2tH6XZk_cCWp",
        "outputId": "8f314efb-7c8d-4199-ba30-2d8dcb3f34ed"
      },
      "execution_count": 3,
      "outputs": [
        {
          "output_type": "stream",
          "name": "stdout",
          "text": [
            "A\n",
            "B\n",
            "C\n",
            "D\n",
            "E\n",
            "F\n"
          ]
        }
      ]
    }
  ]
}